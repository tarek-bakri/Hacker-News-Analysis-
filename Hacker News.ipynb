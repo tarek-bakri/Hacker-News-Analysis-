{
 "cells": [
  {
   "cell_type": "markdown",
   "id": "c5da5870",
   "metadata": {},
   "source": [
    "# Guided Project: Exploring Hacker News Posts"
   ]
  },
  {
   "cell_type": "markdown",
   "id": "654b0281",
   "metadata": {},
   "source": [
    "Hacker News is a site started by the startup incubator Y Combinator, where user-submitted stories (known as \"posts\") are voted and commented upon, similar to reddit. Hacker News is extremely popular in technology and startup circles, and posts that make it to the top of Hacker News' listings can get hundreds of thousands of visitors as a result.\n",
    "\n",
    "Data set can be found [here](https://www.kaggle.com/hacker-news/hacker-news-posts), but note that it has been reduced from almost 300,000 rows to approximately 20,000 rows by removing all submissions that did not receive any comments, and then randomly sampling from the remaining submissions. \n",
    "\n",
    "We're specifically interested in posts whose titles begin with either Ask HN or Show HN. Users submit Ask HN posts to ask the Hacker News community a specific question. Below are a couple examples:\n",
    "\n",
    "- Ask HN: How to improve my personal website?\n",
    "- Ask HN: Am I the only one outraged by Twitter shutting down share counts?\n",
    "- Ask HN: Aby recent changes to CSS that broke mobile?\n",
    "Likewise, users submit Show HN posts to show the Hacker News community a project, product, or just generally something interesting. Below are a couple of examples:\n",
    "\n",
    "- Show HN: Wio Link  ESP8266 Based Web of Things Hardware Development Platform'\n",
    "- Show HN: Something pointless I made\n",
    "- Show HN: Shanhu.io, a programming playground powered by e8vm\n",
    "\n",
    "## We'll compare these two types of posts to determine the following:\n",
    "\n",
    "### (Q-1) Do Ask HN or Show HN receive more comments on average?\n",
    "### (Q-2) Do posts created at a certain time receive more comments on average?\n"
   ]
  },
  {
   "cell_type": "markdown",
   "id": "5ede7cf0",
   "metadata": {},
   "source": [
    "# Workflow"
   ]
  },
  {
   "cell_type": "markdown",
   "id": "aff217cf",
   "metadata": {},
   "source": [
    "## Importing Library"
   ]
  },
  {
   "cell_type": "code",
   "execution_count": 1,
   "id": "ddb6942c",
   "metadata": {},
   "outputs": [],
   "source": [
    "# import datetime module as dt\n",
    "import datetime as dt"
   ]
  },
  {
   "cell_type": "markdown",
   "id": "86f7fb6f",
   "metadata": {},
   "source": [
    "## Importing the file"
   ]
  },
  {
   "cell_type": "code",
   "execution_count": 2,
   "id": "257c778c",
   "metadata": {},
   "outputs": [],
   "source": [
    "opened_file = open('HN_posts_year_to_Sep_26_2016.csv')\n",
    "from csv import reader \n",
    "read_file = reader(opened_file)\n",
    "hn_data = list(read_file) #hn_data is the name of the list HN posts list"
   ]
  },
  {
   "cell_type": "markdown",
   "id": "ddab4292",
   "metadata": {},
   "source": [
    "Here are the first few rows of the data set:"
   ]
  },
  {
   "cell_type": "code",
   "execution_count": 3,
   "id": "2c5a9d8d",
   "metadata": {},
   "outputs": [
    {
     "name": "stdout",
     "output_type": "stream",
     "text": [
      "[['id', 'title', 'url', 'num_points', 'num_comments', 'author', 'created_at'], ['12579008', 'You have two days to comment if you want stem cells to be classified as your own', 'http://www.regulations.gov/document?D=FDA-2015-D-3719-0018', '1', '0', 'altstar', '9/26/2016 3:26'], ['12579005', 'SQLAR  the SQLite Archiver', 'https://www.sqlite.org/sqlar/doc/trunk/README.md', '1', '0', 'blacksqr', '9/26/2016 3:24'], ['12578997', 'What if we just printed a flatscreen television on the side of our boxes?', 'https://medium.com/vanmoof/our-secrets-out-f21c1f03fdc8#.ietxmez43', '1', '0', 'pavel_lishin', '9/26/2016 3:19'], ['12578989', 'algorithmic music', 'http://cacm.acm.org/magazines/2011/7/109891-algorithmic-composition/fulltext', '1', '0', 'poindontcare', '9/26/2016 3:16']]\n"
     ]
    }
   ],
   "source": [
    "print(hn_data[:5])"
   ]
  },
  {
   "cell_type": "markdown",
   "id": "0a8392a6",
   "metadata": {},
   "source": [
    "Above are descriptions of the columns:\n",
    "\n",
    "- id: The unique identifier from Hacker News for the post\n",
    "- title: The title of the post\n",
    "- url: The URL that the posts links to, if the post has a URL\n",
    "- num_points: The number of points the post acquired, calculated as the total number of upvotes minus the total number of downvotes\n",
    "- num_comments: The number of comments that were made on the post\n",
    "- author: The username of the person who submitted the post\n",
    "- created_at: The date and time at which the post was submitted"
   ]
  },
  {
   "cell_type": "markdown",
   "id": "b0ead3f0",
   "metadata": {},
   "source": [
    "## Removing the headers from a List of Lists"
   ]
  },
  {
   "cell_type": "code",
   "execution_count": 4,
   "id": "373b3c44",
   "metadata": {},
   "outputs": [
    {
     "name": "stdout",
     "output_type": "stream",
     "text": [
      "['id', 'title', 'url', 'num_points', 'num_comments', 'author', 'created_at']\n"
     ]
    }
   ],
   "source": [
    "headers = hn_data[0]\n",
    "hn_data = hn_data[1:]\n",
    "\n",
    "print(headers)"
   ]
  },
  {
   "cell_type": "code",
   "execution_count": 5,
   "id": "4b5c1123",
   "metadata": {},
   "outputs": [
    {
     "name": "stdout",
     "output_type": "stream",
     "text": [
      "[['12579008', 'You have two days to comment if you want stem cells to be classified as your own', 'http://www.regulations.gov/document?D=FDA-2015-D-3719-0018', '1', '0', 'altstar', '9/26/2016 3:26'], ['12579005', 'SQLAR  the SQLite Archiver', 'https://www.sqlite.org/sqlar/doc/trunk/README.md', '1', '0', 'blacksqr', '9/26/2016 3:24'], ['12578997', 'What if we just printed a flatscreen television on the side of our boxes?', 'https://medium.com/vanmoof/our-secrets-out-f21c1f03fdc8#.ietxmez43', '1', '0', 'pavel_lishin', '9/26/2016 3:19'], ['12578989', 'algorithmic music', 'http://cacm.acm.org/magazines/2011/7/109891-algorithmic-composition/fulltext', '1', '0', 'poindontcare', '9/26/2016 3:16'], ['12578979', 'How the Data Vault Enables the Next-Gen Data Warehouse and Data Lake', 'https://www.talend.com/blog/2016/05/12/talend-and-Â\\x93the-data-vaultÂ\\x94', '1', '0', 'markgainor1', '9/26/2016 3:14']]\n"
     ]
    }
   ],
   "source": [
    "print(hn_data[:5])"
   ]
  },
  {
   "cell_type": "markdown",
   "id": "bef9fdba",
   "metadata": {},
   "source": [
    "## Filtering Data - Extracting Ask HN and Show HN Posts"
   ]
  },
  {
   "cell_type": "code",
   "execution_count": 6,
   "id": "9076f2b7",
   "metadata": {},
   "outputs": [
    {
     "name": "stdout",
     "output_type": "stream",
     "text": [
      "Total number of posts = 293119\n",
      "**************************************\n",
      "Total Ask HNs Posts =  9139\n",
      "Total Show HNs Posts =  10158\n",
      "Total Other Posts =  273822\n"
     ]
    }
   ],
   "source": [
    "# To find the posts that begin with either Ask HN or Show HN, we'll use the string method .startswith()\n",
    "# creat three empty lists \n",
    "ask_posts = []\n",
    "show_posts = []\n",
    "other_posts = []\n",
    "\n",
    "for row in hn_data:\n",
    "    title = row[1] #title column at index 1\n",
    "    if title.lower().startswith('ask hn'):\n",
    "        ask_posts.append(row)\n",
    "    elif title.lower().startswith('show hn'):\n",
    "        show_posts.append(row)\n",
    "    else:\n",
    "        other_posts.append(row)\n",
    "        \n",
    "# check the number of posts and print total  \n",
    "print('Total number of posts =', len(hn_data))\n",
    "print(\"**************************************\")\n",
    "print('Total Ask HNs Posts = ', len(ask_posts))  \n",
    "print('Total Show HNs Posts = ', len(show_posts))  \n",
    "print('Total Other Posts = ', len(other_posts))"
   ]
  },
  {
   "cell_type": "markdown",
   "id": "0bdca9f2",
   "metadata": {},
   "source": [
    "## Calculating the Average Number of Comments for Ask HN and Show HN Posts"
   ]
  },
  {
   "cell_type": "markdown",
   "id": "a6ffd6f4",
   "metadata": {},
   "source": [
    "So far, we have separated the \"ask posts\" and the \"show posts\" into two list of lists named ask_posts and show_posts\n",
    "\n",
    "Below are the first five rows in the ask_posts list of lists:"
   ]
  },
  {
   "cell_type": "code",
   "execution_count": 7,
   "id": "5b52d96b",
   "metadata": {},
   "outputs": [
    {
     "name": "stdout",
     "output_type": "stream",
     "text": [
      "[['12578908', 'Ask HN: What TLD do you use for local development?', '', '4', '7', 'Sevrene', '9/26/2016 2:53'], ['12578522', 'Ask HN: How do you pass on your work when you die?', '', '6', '3', 'PascLeRasc', '9/26/2016 1:17'], ['12577908', 'Ask HN: How a DNS problem can be limited to a geographic region?', '', '1', '0', 'kuon', '9/25/2016 22:57'], ['12577870', 'Ask HN: Why join a fund when you can be an angel?', '', '1', '3', 'anthony_james', '9/25/2016 22:48'], ['12577647', 'Ask HN: Someone uses stock trading as passive income?', '', '5', '2', '00taffe', '9/25/2016 21:50']]\n"
     ]
    }
   ],
   "source": [
    "print(ask_posts[:5])"
   ]
  },
  {
   "cell_type": "markdown",
   "id": "721ab5ea",
   "metadata": {},
   "source": [
    "Below are the first five rows in the show_posts list of lists:"
   ]
  },
  {
   "cell_type": "code",
   "execution_count": 8,
   "id": "bbf7e662",
   "metadata": {},
   "outputs": [
    {
     "name": "stdout",
     "output_type": "stream",
     "text": [
      "[['12578335', 'Show HN: Finding puns computationally', 'http://puns.samueltaylor.org/', '2', '0', 'saamm', '9/26/2016 0:36'], ['12578182', 'Show HN: A simple library for complicated animations', 'https://christinecha.github.io/choreographer-js/', '1', '0', 'christinecha', '9/26/2016 0:01'], ['12578098', 'Show HN: WebGL visualization of DNA sequences', 'http://grondilu.github.io/dna.html', '1', '0', 'grondilu', '9/25/2016 23:44'], ['12577991', 'Show HN: Pomodoro-centric, heirarchical project management with ES6 modules', 'https://github.com/jakebian/zeal', '2', '0', 'dbranes', '9/25/2016 23:17'], ['12577142', 'Show HN: Jumble  Essays on the go #PaulInYourPocket', 'https://itunes.apple.com/us/app/jumble-find-startup-essay/id1150939197?ls=1&mt=8', '1', '1', 'ryderj', '9/25/2016 20:06']]\n"
     ]
    }
   ],
   "source": [
    "print(show_posts[:5])"
   ]
  },
  {
   "cell_type": "markdown",
   "id": "8ebcf5e8",
   "metadata": {},
   "source": [
    "Now we will determine if ask posts or show posts receive more comments on average"
   ]
  },
  {
   "cell_type": "code",
   "execution_count": 9,
   "id": "c6d084f8",
   "metadata": {},
   "outputs": [
    {
     "name": "stdout",
     "output_type": "stream",
     "text": [
      "Total Ask Comments = 94986\n",
      "Avergae Ask Comments = 10\n",
      "\n",
      "\n",
      "============================\n",
      "\n",
      "\n",
      "Total Show Comments = 49633\n",
      "Avergae Show Comments = 5\n"
     ]
    }
   ],
   "source": [
    "# find the total number of comments in ask posts\n",
    "total_ask_comments = 0\n",
    "\n",
    "for row in ask_posts:\n",
    "    num_comments = int(row[4])\n",
    "    total_ask_comments = total_ask_comments + num_comments\n",
    "    \n",
    "print(\"Total Ask Comments =\", total_ask_comments)\n",
    "\n",
    "\n",
    "# compute average number of comments\n",
    "avg_ask_comments = total_ask_comments / len(ask_posts) \n",
    "print(\"Avergae Ask Comments =\", round(avg_ask_comments))\n",
    "\n",
    "print('\\n')\n",
    "print(\"============================\")\n",
    "print('\\n')\n",
    "\n",
    "# find the total number of comments in show posts\n",
    "total_show_comments = 0\n",
    "\n",
    "for row in show_posts:\n",
    "    num_comments = int(row[4])\n",
    "    total_show_comments += num_comments\n",
    "    \n",
    "print(\"Total Show Comments =\", total_show_comments)\n",
    "\n",
    "\n",
    "# compute average number of comments\n",
    "avg_show_comments = total_show_comments / len(show_posts) \n",
    "print(\"Avergae Show Comments =\", round(avg_show_comments))"
   ]
  },
  {
   "cell_type": "markdown",
   "id": "39b59b15",
   "metadata": {},
   "source": [
    "Based on the results so far we, can determine that on average, Ask posts receive more comments than Show posts. Since Ask posts are more likely to receive comments, we'll focus our remaining analysis just on these posts."
   ]
  },
  {
   "cell_type": "markdown",
   "id": "fa2de114",
   "metadata": {},
   "source": [
    "# Finding the Amount of Ask Posts and Comments by Hour Created"
   ]
  },
  {
   "cell_type": "markdown",
   "id": "3cdb4aee",
   "metadata": {},
   "source": [
    "Next, we'll determine if Ask posts created at a certain time are more likely to attract comments. We'll use the following steps to perform this analysis:\n",
    "\n",
    "- Calculate the amount of Ask posts created in each hour of the day, along with the number of comments received.\n",
    "- Calculate the average number of comments Ask posts receive by hour created."
   ]
  },
  {
   "cell_type": "code",
   "execution_count": 10,
   "id": "8d459985",
   "metadata": {},
   "outputs": [],
   "source": [
    "# import datetime module as dt\n",
    "#import datetime as dt"
   ]
  },
  {
   "cell_type": "code",
   "execution_count": 11,
   "id": "34c4fd9b",
   "metadata": {},
   "outputs": [
    {
     "name": "stdout",
     "output_type": "stream",
     "text": [
      "[['9/26/2016 2:53', 7], ['9/26/2016 1:17', 3], ['9/25/2016 22:57', 0], ['9/25/2016 22:48', 3], ['9/25/2016 21:50', 2]]\n"
     ]
    }
   ],
   "source": [
    "result_list = []\n",
    "\n",
    "for row in ask_posts:\n",
    "    created_at = row[6]\n",
    "    num_comments = int(row[4])\n",
    "    result_list.append([created_at, num_comments])\n",
    "print(result_list[:5])   "
   ]
  },
  {
   "cell_type": "code",
   "execution_count": 12,
   "id": "987e854f",
   "metadata": {},
   "outputs": [
    {
     "name": "stdout",
     "output_type": "stream",
     "text": [
      "Posts created by hour:  {2: 269, 1: 282, 22: 383, 21: 518, 19: 552, 17: 587, 15: 646, 14: 513, 13: 444, 11: 312, 10: 282, 9: 222, 7: 226, 3: 271, 23: 343, 20: 510, 16: 579, 8: 257, 0: 301, 18: 614, 12: 342, 4: 243, 6: 234, 5: 209}\n",
      "\n",
      "\n",
      "Total comments added by hour:  {2: 2996, 1: 2089, 22: 3372, 21: 4500, 19: 3954, 17: 5547, 15: 18525, 14: 4972, 13: 7245, 11: 2797, 10: 3013, 9: 1477, 7: 1585, 3: 2154, 23: 2297, 20: 4462, 16: 4466, 8: 2362, 0: 2277, 18: 4877, 12: 4234, 4: 2360, 6: 1587, 5: 1838}\n"
     ]
    }
   ],
   "source": [
    "counts_by_hour = {}\n",
    "#contains the number of ask posts created during each hour of the day.\n",
    "comments_by_hour = {}\n",
    "#contains the corresponding number of comments ask posts created at each hour received.\n",
    "\n",
    "\n",
    "#date_format = \"%m/%d/%Y %H:%M\"  --> Or can use this and add date_format as 2nd argument in strptime(arg1, arg1)\n",
    "for row in result_list:\n",
    "    entry_str = row[0]\n",
    "    comment = row[1]\n",
    "    entry_date = dt.datetime.strptime(entry_str, \"%m/%d/%Y %H:%M\") #used to parse the date and create a datetime object\n",
    "    entry_hour = entry_date.hour #Extract the hour from the date, which is the first element of the row\n",
    "#or, entry_hour = entry_date.strftime(%H) will retunr hr as a str ''\n",
    "    if entry_hour not in counts_by_hour:\n",
    "        counts_by_hour[entry_hour] = 1\n",
    "        comments_by_hour[entry_hour] = comment\n",
    "    else:\n",
    "        counts_by_hour[entry_hour] += 1\n",
    "        comments_by_hour[entry_hour] += comment\n",
    "        \n",
    "print('Posts created by hour: ', counts_by_hour)\n",
    "print('\\n')\n",
    "print('Total comments added by hour: ', comments_by_hour)\n"
   ]
  },
  {
   "cell_type": "markdown",
   "id": "2d95581f",
   "metadata": {},
   "source": [
    "## Calculating the Average Number of Comments for Ask HN Posts by Hour"
   ]
  },
  {
   "cell_type": "markdown",
   "id": "c8c1b2c7",
   "metadata": {},
   "source": [
    "We'll use these two dictionaries to calculate the average number of comments for posts created during each hour of the day."
   ]
  },
  {
   "cell_type": "code",
   "execution_count": 13,
   "id": "8aa2ee64",
   "metadata": {},
   "outputs": [
    {
     "name": "stdout",
     "output_type": "stream",
     "text": [
      "The Average Comments by Hour:  [[2, 11.137546468401487], [1, 7.407801418439717], [22, 8.804177545691905], [21, 8.687258687258687], [19, 7.163043478260869], [17, 9.449744463373083], [15, 28.676470588235293], [14, 9.692007797270955], [13, 16.31756756756757], [11, 8.96474358974359], [10, 10.684397163120567], [9, 6.653153153153153], [7, 7.013274336283186], [3, 7.948339483394834], [23, 6.696793002915452], [20, 8.749019607843136], [16, 7.713298791018998], [8, 9.190661478599221], [0, 7.5647840531561465], [18, 7.94299674267101], [12, 12.380116959064328], [4, 9.7119341563786], [6, 6.782051282051282], [5, 8.794258373205741]]\n",
      "\n",
      "\n",
      "The Average Comments by Hour\n",
      "==============================\n",
      "2 - 11.1\n",
      "1 - 7.4\n",
      "22 - 8.8\n",
      "21 - 8.7\n",
      "19 - 7.2\n",
      "17 - 9.4\n",
      "15 - 28.7\n",
      "14 - 9.7\n",
      "13 - 16.3\n",
      "11 - 9.0\n",
      "10 - 10.7\n",
      "9 - 6.7\n",
      "7 - 7.0\n",
      "3 - 7.9\n",
      "23 - 6.7\n",
      "20 - 8.7\n",
      "16 - 7.7\n",
      "8 - 9.2\n",
      "0 - 7.6\n",
      "18 - 7.9\n",
      "12 - 12.4\n",
      "4 - 9.7\n",
      "6 - 6.8\n",
      "5 - 8.8\n"
     ]
    }
   ],
   "source": [
    "avg_by_hour = []\n",
    "\n",
    "for hour in comments_by_hour:\n",
    "    comments = comments_by_hour[hour]\n",
    "    counts = counts_by_hour[hour]\n",
    "    avg_by_hour.append([hour, (comments / counts)])\n",
    "\n",
    "print(\"The Average Comments by Hour: \", avg_by_hour)\n",
    "\n",
    "print('\\n')\n",
    "print(\"The Average Comments by Hour\")\n",
    "print(\"==============================\")\n",
    "\n",
    "for row in avg_by_hour:\n",
    "    hour = row[0]\n",
    "    avg = row[1]\n",
    "    print(hour, '-', round(avg,1))"
   ]
  },
  {
   "cell_type": "markdown",
   "id": "d14a2a69",
   "metadata": {},
   "source": [
    "Although we now have the results we need, this format makes it hard to identify the hours with the highest values. Let's finish by sorting the list of lists and printing the five highest values in a format that's easier to read."
   ]
  },
  {
   "cell_type": "markdown",
   "id": "82e58439",
   "metadata": {},
   "source": [
    "## Sorting and Printing Values from a List of Lists"
   ]
  },
  {
   "cell_type": "code",
   "execution_count": 14,
   "id": "5f5e7225",
   "metadata": {},
   "outputs": [
    {
     "name": "stdout",
     "output_type": "stream",
     "text": [
      "Swap Avg by Hour:  [[11.137546468401487, 2], [7.407801418439717, 1], [8.804177545691905, 22], [8.687258687258687, 21], [7.163043478260869, 19], [9.449744463373083, 17], [28.676470588235293, 15], [9.692007797270955, 14], [16.31756756756757, 13], [8.96474358974359, 11], [10.684397163120567, 10], [6.653153153153153, 9], [7.013274336283186, 7], [7.948339483394834, 3], [6.696793002915452, 23], [8.749019607843136, 20], [7.713298791018998, 16], [9.190661478599221, 8], [7.5647840531561465, 0], [7.94299674267101, 18], [12.380116959064328, 12], [9.7119341563786, 4], [6.782051282051282, 6], [8.794258373205741, 5]]\n",
      "\n",
      "\n",
      "Sorted Swap Avg by Hour:  [[28.676470588235293, 15], [16.31756756756757, 13], [12.380116959064328, 12], [11.137546468401487, 2], [10.684397163120567, 10], [9.7119341563786, 4], [9.692007797270955, 14], [9.449744463373083, 17], [9.190661478599221, 8], [8.96474358974359, 11], [8.804177545691905, 22], [8.794258373205741, 5], [8.749019607843136, 20], [8.687258687258687, 21], [7.948339483394834, 3], [7.94299674267101, 18], [7.713298791018998, 16], [7.5647840531561465, 0], [7.407801418439717, 1], [7.163043478260869, 19], [7.013274336283186, 7], [6.782051282051282, 6], [6.696793002915452, 23], [6.653153153153153, 9]]\n",
      "\n",
      "\n",
      "Top 5 Hours for Ask Posts Comments\n",
      "==================================\n",
      "15:00 : 28.68 average comments per post\n",
      "13:00 : 16.32 average comments per post\n",
      "12:00 : 12.38 average comments per post\n",
      "02:00 : 11.14 average comments per post\n",
      "10:00 : 10.68 average comments per post\n"
     ]
    }
   ],
   "source": [
    "swap_avg_by_hour = []\n",
    "\n",
    "for row in avg_by_hour:\n",
    "    swap_avg_by_hour.append([row[1], row[0]])\n",
    "print(\"Swap Avg by Hour: \", swap_avg_by_hour)\n",
    "print('\\n')\n",
    "\n",
    "sorted_swap = sorted(swap_avg_by_hour, reverse = True) #so highest value in first column appears first in the list\n",
    "print(\"Sorted Swap Avg by Hour: \", sorted_swap)\n",
    "print('\\n')\n",
    "\n",
    "\n",
    "print(\"Top 5 Hours for Ask Posts Comments\")\n",
    "print(\"==================================\")\n",
    "time_format = \"%H:%M\"\n",
    "for row in sorted_swap[:5]:\n",
    "    date = dt.datetime.strptime(str(row[1]), \"%H\") #strptime, as hr is at index [1] of the list of list\n",
    "    time = date.strftime(time_format) #strftime to also add minutes\n",
    "    summary = f\"{time} : {round(row[0], 2)} average comments per post\"\n",
    "    print(summary)"
   ]
  },
  {
   "cell_type": "markdown",
   "id": "37162930",
   "metadata": {},
   "source": [
    "## Conclusion "
   ]
  },
  {
   "cell_type": "markdown",
   "id": "d582984e",
   "metadata": {},
   "source": [
    "#### The aim of this project was to determine the following:\n",
    "\n",
    "#### (Q-1) Do Ask HN or Show HN receive more comments on average?\n",
    "Based on the results we were able to determine that on average, Ask posts received more comments than Show posts. Since Ask posts are more likely to receive comments, we  focused our remaining analysis just on these posts.\n",
    "#### (Q-2) Do posts created at a certain time receive more comments on average?\n",
    "Further analysis of the Ask posts data revealed that the top 5 hours for Ask posts comments per post varied with time-of-day. The highest number of average comments was 28.68 comments per post made at 3:00 PM and the lowest number of average comments was 10.68 comments per post made at 10:00 AM. \n",
    "Thus, it can be concluded that the number of comments per Ask posts vary throughout the day and we found that the highest level of interactions is in the afternoon period between 12:00 PM - 3:00 PM are likely to attract more comments than posts submitted at other times of the day."
   ]
  }
 ],
 "metadata": {
  "kernelspec": {
   "display_name": "Python 3",
   "language": "python",
   "name": "python3"
  },
  "language_info": {
   "codemirror_mode": {
    "name": "ipython",
    "version": 3
   },
   "file_extension": ".py",
   "mimetype": "text/x-python",
   "name": "python",
   "nbconvert_exporter": "python",
   "pygments_lexer": "ipython3",
   "version": "3.8.8"
  }
 },
 "nbformat": 4,
 "nbformat_minor": 5
}
